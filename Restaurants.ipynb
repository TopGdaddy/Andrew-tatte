# --- Data Setup ---
# A single dictionary holds all menu data
menu = {
    'Burgers': {
        'Big Mac': 180, 'McChicken': 160, 'Filet-O-Fish': 170, 
        'Cheeseburger': 130, 'McVeggie': 120
    },
    'Wraps & Rolls': {
        'Chicken Wrap': 150, 'Veggie Wrap': 130, 'Egg Roll': 90, 'Paneer Wrap': 140
    },
    'Sides': {
        'French Fries': 90, 'Chicken Nuggets': 120, 'Cheese Sticks': 110, 'Hash Browns': 80
    },
    'Beverages': {
        'Coca-Cola': 60, 'Sprite': 60, 'Fanta': 60, 'Iced Tea': 70, 
        'Cold Coffee': 90, 'Bottled Water': 30
    },
    'Desserts': {
        'McFlurry': 100, 'Soft Serve Cone': 40, 'Apple Pie': 60, 'Chocolate Brownie': 80
    },
    'Breakfast': {
        'Egg McMuffin': 120, 'Hotcakes': 100, 'Veg McMuffin': 110, 'Breakfast Wrap': 130
    }
}

# --- Function Definitions ---

def display_menu():
    """Prints the entire formatted menu."""
    print("--- 🍔 Welcome to the Restaurant! 🍟 ---")
    for category, items in menu.items():
        print(f"\n## {category}")
        for item, price in items.items():
            print(f"- {item:<18} : ₹{price}")
    print("-" * 40)

def add_item_to_order(current_order):
    """Asks for an item and adds it to the order."""
    item_name = input("Enter the item you want to order: ").strip()
    
    # Find the item and its price
    price = None
    for category in menu:
        if item_name in menu[category]:
            price = menu[category][item_name]
            break
            
    if price is not None:
        current_order.append({'name': item_name, 'price': price})
        print(f"✅ Added {item_name} to your order.")
    else:
        print("❌ Sorry, that item is not on the menu.")
    return current_order

def remove_last_item(current_order):
    """Removes the most recently added item from the order."""
    if current_order:
        removed_item = current_order.pop()
        print(f"🗑️ Removed {removed_item['name']} from your order.")
    else:
        print("Your order is already empty.")
    return current_order

def view_order(current_order):
    """Displays all items in the current order and the total."""
    if not current_order:
        print("\n🧾 Your order is currently empty.")
    else:
        print("\n--- 🧾 Your Current Order ---")
        current_total = 0
        for item in current_order:
            print(f"- {item['name']:<18} : ₹{item['price']}")
            current_total += item['price']
        print("---------------------------")
        print(f"Current Total: ₹{current_total}")

def checkout(current_order):
    """Calculates the final bill with all discounts."""
    if not current_order:
        print("You haven't ordered anything yet!")
        return

    # Calculate initial total
    total = sum(item['price'] for item in current_order)
    print(f"\n--- 💵 Final Bill ---")
    print(f"Subtotal: ₹{total:.2f}")

    # Apply age discount
    try:
        age = int(input("To check for discounts, please enter your age: "))
        if age < 18:
            total *= 0.80 # 20% discount
            print(f"🎉 Applied 20% student discount! New total: ₹{total:.2f}")
        elif age > 50:
            total *= 0.90 # 10% discount
            print(f"🎉 Applied 10% senior discount! New total: ₹{total:.2f}")
    except ValueError:
        print("Invalid age entered. No age-based discount applied.")

    # Apply family discount
    is_with_family = input("Are you with your family? (yes/no): ").lower().strip()
    if is_with_family == 'yes':
        total *= 0.85 # Extra 15% discount
        print(f"👪 Applied an additional 15% family discount!")

    print("----------------------")
    print(f"Your Final Amount is: ₹{total:.2f}")
    print("\nThank you for your order! Goodbye! 👋")


# --- Main Program Execution ---

def main():
    """The main function to run the ordering system."""
    order = []
    display_menu()

    while True:
        print("\nWhat would you like to do?")
        action = input("Select: [1] Add Item | [2] Remove Last Item | [3] View Order | [4] Checkout\n> ")

        if action == '1':
            order = add_item_to_order(order)
        elif action == '2':
            order = remove_last_item(order)
        elif action == '3':
            view_order(order)
        elif action == '4':
            checkout(order)
            break # Exit the loop and end the program
        else:
            print("Invalid option. Please choose 1, 2, 3, or 4.")

# This line ensures the main() function runs when the script is executed
if __name__ == "__main__":
    main()
