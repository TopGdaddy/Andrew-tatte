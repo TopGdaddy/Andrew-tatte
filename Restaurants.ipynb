{
  "nbformat": 4,
  "nbformat_minor": 0,
  "metadata": {
    "colab": {
      "provenance": [],
      "authorship_tag": "ABX9TyPOvdtWRAGbmOrdUG2Mmay5",
      "include_colab_link": true
    },
    "kernelspec": {
      "name": "python3",
      "display_name": "Python 3"
    },
    "language_info": {
      "name": "python"
    }
  },
  "cells": [
    {
      "cell_type": "markdown",
      "metadata": {
        "id": "view-in-github",
        "colab_type": "text"
      },
      "source": [
        "<a href=\"https://colab.research.google.com/github/TopGdaddy/Andrew-tatte/blob/main/Restaurants.ipynb\" target=\"_parent\"><img src=\"https://colab.research.google.com/assets/colab-badge.svg\" alt=\"Open In Colab\"/></a>"
      ]
    },
    {
      "cell_type": "code",
      "execution_count": null,
      "metadata": {
        "colab": {
          "base_uri": "https://localhost:8080/"
        },
        "collapsed": true,
        "id": "ZDg8i-fkaMNx",
        "outputId": "7382373f-4df5-46a9-d326-897e358e8289"
      },
      "outputs": [
        {
          "output_type": "stream",
          "name": "stdout",
          "text": [
            "Welcome to restaurant resto!\n",
            "1 = kdhai paneer:250rs \n",
            " 2 = mutter paneer:250rs \n",
            " 3 = idli dosa: 100rs \n",
            " 4 = aamraas:100rs \n",
            " 5 = naan:35rs\n",
            " 100\n",
            "we have extra discount respective of your age,What is your age Sir/Mam?\n",
            "11\n",
            "you should enter respective dish number!\n",
            "if you are in one big family type 'y' for yes and 'n' for non\n",
            "your total bill would be: Rs0\n"
          ]
        }
      ],
      "source": [
        "print(\"                                Welcome to Behen Di Lori Restaurant\")\n",
        "\n",
        "menu = int(input('Please select a dish from the menu:\\n \"1\" for Palak Paneer\\n \"2\" for Daal Chawal\\n \"3\" for Mutton\\n \"4\" for Chicken\\n '))\n",
        "\n",
        "family = input('Please tell us whether you are with your family or alone.\\n Select \"a\" for family\\n \"b\" for alone\\n ')\n",
        "\n",
        "age = int(input(\"Please enter your age: \"))\n",
        "\n",
        "total_amount = 0\n",
        "\n",
        "if menu == 1:\n",
        "    total_amount = 250\n",
        "elif menu == 2:\n",
        "    total_amount = 150\n",
        "elif menu == 3:\n",
        "    total_amount = 800\n",
        "elif menu == 4:\n",
        "    total_amount = 500\n",
        "else:\n",
        "    print(\"Invalid menu selection. Please enter a number between 1 and 4.\")\n",
        "\n",
        "\n",
        "if age < 18:\n",
        "    total_amount -= total_amount * 0.20\n",
        "elif age > 50:\n",
        "    total_amount -= total_amount * 0.10\n",
        "\n",
        "if family.lower() == \"a\":\n",
        "    total_amount -= total_amount * 0.15\n",
        "\n",
        "print(f\"Your total bill would be: Rs{total_amount:.2f}\")\n",
        "\n",
        "\n",
        "\n"
      ]
    },
    {
      "cell_type": "code",
      "source": [],
      "metadata": {
        "id": "f1u1czTs2A4_"
      },
      "execution_count": null,
      "outputs": []
    }
  ]
}